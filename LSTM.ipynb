{
 "cells": [
  {
   "cell_type": "code",
   "execution_count": 49,
   "metadata": {},
   "outputs": [],
   "source": [
    "# FinanceData를 받아오기 위한 다운로드\n",
    "# pip install finance-datareader"
   ]
  },
  {
   "cell_type": "code",
   "execution_count": 50,
   "metadata": {},
   "outputs": [],
   "source": [
    "# GUI\n",
    "import tkinter as tk\n",
    "import tkinter.ttk as ttk\n",
    "import tkinter.messagebox as msgbox\n",
    "from tkinter import *  # __all__\n",
    "from tkinter import filedialog\n",
    "\n",
    "# Dataset\n",
    "from sklearn.model_selection import train_test_split\n",
    "from sklearn.preprocessing import MinMaxScaler\n",
    "from sklearn import preprocessing\n",
    "import pandas as pd\n",
    "import numpy as np\n",
    "import matplotlib.pyplot as plt\n",
    "import FinanceDataReader as fdr\n",
    "\n",
    "# Model\n",
    "import tensorflow as tf\n",
    "from tensorflow.keras.models import Sequential\n",
    "from tensorflow.keras.layers import Dense, LSTM, Conv1D, Lambda\n",
    "from tensorflow.keras.losses import Huber\n",
    "from tensorflow.keras.optimizers import Adam\n",
    "from tensorflow.keras.callbacks import ModelCheckpoint, EarlyStopping\n",
    "from tensorflow.keras.callbacks import Callback\n",
    "\n",
    "# ETC\n",
    "import os\n",
    "import warnings"
   ]
  },
  {
   "cell_type": "code",
   "execution_count": 51,
   "metadata": {},
   "outputs": [],
   "source": [
    "'''global Value(Hyper parameter)'''\n",
    "STOCK_CODE = 0\n",
    "WINDOW_SIZE = 20\n",
    "BATCH_SIZE = 32  # 원래는 32\n",
    "Epoch_num = 100\n",
    "earlystop = 20\n",
    "while_TF_early_stop = True"
   ]
  },
  {
   "cell_type": "code",
   "execution_count": 52,
   "metadata": {},
   "outputs": [],
   "source": [
    "## 주가 데이터 가져오기(GOOGLE_A_Class)\n",
    "STOCK_CODE = \"GOOGL\"\n",
    "stock = fdr.DataReader(STOCK_CODE)"
   ]
  },
  {
   "cell_type": "code",
   "execution_count": 53,
   "metadata": {},
   "outputs": [
    {
     "data": {
      "text/html": [
       "<div>\n",
       "<style scoped>\n",
       "    .dataframe tbody tr th:only-of-type {\n",
       "        vertical-align: middle;\n",
       "    }\n",
       "\n",
       "    .dataframe tbody tr th {\n",
       "        vertical-align: top;\n",
       "    }\n",
       "\n",
       "    .dataframe thead th {\n",
       "        text-align: right;\n",
       "    }\n",
       "</style>\n",
       "<table border=\"1\" class=\"dataframe\">\n",
       "  <thead>\n",
       "    <tr style=\"text-align: right;\">\n",
       "      <th></th>\n",
       "      <th>Close</th>\n",
       "      <th>Open</th>\n",
       "      <th>High</th>\n",
       "      <th>Low</th>\n",
       "      <th>Volume</th>\n",
       "      <th>Change</th>\n",
       "    </tr>\n",
       "    <tr>\n",
       "      <th>Date</th>\n",
       "      <th></th>\n",
       "      <th></th>\n",
       "      <th></th>\n",
       "      <th></th>\n",
       "      <th></th>\n",
       "      <th></th>\n",
       "    </tr>\n",
       "  </thead>\n",
       "  <tbody>\n",
       "    <tr>\n",
       "      <th>2004-08-20</th>\n",
       "      <td>2.71</td>\n",
       "      <td>2.54</td>\n",
       "      <td>2.73</td>\n",
       "      <td>2.51</td>\n",
       "      <td>228590000.0</td>\n",
       "      <td>0.0797</td>\n",
       "    </tr>\n",
       "    <tr>\n",
       "      <th>2004-08-23</th>\n",
       "      <td>2.74</td>\n",
       "      <td>2.77</td>\n",
       "      <td>2.84</td>\n",
       "      <td>2.73</td>\n",
       "      <td>182800000.0</td>\n",
       "      <td>0.0111</td>\n",
       "    </tr>\n",
       "    <tr>\n",
       "      <th>2004-08-24</th>\n",
       "      <td>2.62</td>\n",
       "      <td>2.78</td>\n",
       "      <td>2.79</td>\n",
       "      <td>2.59</td>\n",
       "      <td>152640000.0</td>\n",
       "      <td>-0.0438</td>\n",
       "    </tr>\n",
       "    <tr>\n",
       "      <th>2004-08-25</th>\n",
       "      <td>2.65</td>\n",
       "      <td>2.63</td>\n",
       "      <td>2.70</td>\n",
       "      <td>2.60</td>\n",
       "      <td>91980000.0</td>\n",
       "      <td>0.0115</td>\n",
       "    </tr>\n",
       "    <tr>\n",
       "      <th>2004-08-26</th>\n",
       "      <td>2.70</td>\n",
       "      <td>2.63</td>\n",
       "      <td>2.70</td>\n",
       "      <td>2.62</td>\n",
       "      <td>71020000.0</td>\n",
       "      <td>0.0189</td>\n",
       "    </tr>\n",
       "  </tbody>\n",
       "</table>\n",
       "</div>"
      ],
      "text/plain": [
       "            Close  Open  High   Low       Volume  Change\n",
       "Date                                                    \n",
       "2004-08-20   2.71  2.54  2.73  2.51  228590000.0  0.0797\n",
       "2004-08-23   2.74  2.77  2.84  2.73  182800000.0  0.0111\n",
       "2004-08-24   2.62  2.78  2.79  2.59  152640000.0 -0.0438\n",
       "2004-08-25   2.65  2.63  2.70  2.60   91980000.0  0.0115\n",
       "2004-08-26   2.70  2.63  2.70  2.62   71020000.0  0.0189"
      ]
     },
     "execution_count": 53,
     "metadata": {},
     "output_type": "execute_result"
    }
   ],
   "source": [
    "# 가져온 Data의 모습\n",
    "stock.head()"
   ]
  },
  {
   "cell_type": "code",
   "execution_count": 54,
   "metadata": {},
   "outputs": [
    {
     "data": {
      "text/html": [
       "<div>\n",
       "<style scoped>\n",
       "    .dataframe tbody tr th:only-of-type {\n",
       "        vertical-align: middle;\n",
       "    }\n",
       "\n",
       "    .dataframe tbody tr th {\n",
       "        vertical-align: top;\n",
       "    }\n",
       "\n",
       "    .dataframe thead th {\n",
       "        text-align: right;\n",
       "    }\n",
       "</style>\n",
       "<table border=\"1\" class=\"dataframe\">\n",
       "  <thead>\n",
       "    <tr style=\"text-align: right;\">\n",
       "      <th></th>\n",
       "      <th>Close</th>\n",
       "      <th>Open</th>\n",
       "      <th>High</th>\n",
       "      <th>Low</th>\n",
       "      <th>Volume</th>\n",
       "      <th>Change</th>\n",
       "    </tr>\n",
       "    <tr>\n",
       "      <th>Date</th>\n",
       "      <th></th>\n",
       "      <th></th>\n",
       "      <th></th>\n",
       "      <th></th>\n",
       "      <th></th>\n",
       "      <th></th>\n",
       "    </tr>\n",
       "  </thead>\n",
       "  <tbody>\n",
       "    <tr>\n",
       "      <th>2022-07-12</th>\n",
       "      <td>114.02</td>\n",
       "      <td>116.22</td>\n",
       "      <td>116.97</td>\n",
       "      <td>113.69</td>\n",
       "      <td>29960000.0</td>\n",
       "      <td>-0.0143</td>\n",
       "    </tr>\n",
       "    <tr>\n",
       "      <th>2022-07-13</th>\n",
       "      <td>111.35</td>\n",
       "      <td>111.70</td>\n",
       "      <td>114.20</td>\n",
       "      <td>111.20</td>\n",
       "      <td>43720000.0</td>\n",
       "      <td>-0.0234</td>\n",
       "    </tr>\n",
       "    <tr>\n",
       "      <th>2022-07-14</th>\n",
       "      <td>110.37</td>\n",
       "      <td>110.21</td>\n",
       "      <td>111.09</td>\n",
       "      <td>108.37</td>\n",
       "      <td>37000000.0</td>\n",
       "      <td>-0.0088</td>\n",
       "    </tr>\n",
       "    <tr>\n",
       "      <th>2022-07-15</th>\n",
       "      <td>111.78</td>\n",
       "      <td>112.00</td>\n",
       "      <td>113.14</td>\n",
       "      <td>110.90</td>\n",
       "      <td>46770000.0</td>\n",
       "      <td>0.0128</td>\n",
       "    </tr>\n",
       "    <tr>\n",
       "      <th>2022-07-18</th>\n",
       "      <td>109.03</td>\n",
       "      <td>112.64</td>\n",
       "      <td>113.68</td>\n",
       "      <td>108.37</td>\n",
       "      <td>43160000.0</td>\n",
       "      <td>-0.0246</td>\n",
       "    </tr>\n",
       "  </tbody>\n",
       "</table>\n",
       "</div>"
      ],
      "text/plain": [
       "             Close    Open    High     Low      Volume  Change\n",
       "Date                                                          \n",
       "2022-07-12  114.02  116.22  116.97  113.69  29960000.0 -0.0143\n",
       "2022-07-13  111.35  111.70  114.20  111.20  43720000.0 -0.0234\n",
       "2022-07-14  110.37  110.21  111.09  108.37  37000000.0 -0.0088\n",
       "2022-07-15  111.78  112.00  113.14  110.90  46770000.0  0.0128\n",
       "2022-07-18  109.03  112.64  113.68  108.37  43160000.0 -0.0246"
      ]
     },
     "execution_count": 54,
     "metadata": {},
     "output_type": "execute_result"
    }
   ],
   "source": [
    "stock.tail()"
   ]
  },
  {
   "cell_type": "code",
   "execution_count": 55,
   "metadata": {},
   "outputs": [
    {
     "data": {
      "text/plain": [
       "array([[8.31070973e-05, 2.49283310e-04, 4.15535487e-05, 2.90810392e-04,\n",
       "        2.75841507e-01],\n",
       "       [4.01684304e-04, 4.01623111e-04, 3.46279572e-04, 3.32354733e-04,\n",
       "        2.20118286e-01],\n",
       "       [4.15535487e-04, 3.32377747e-04, 1.52363012e-04, 1.66177367e-04,\n",
       "        1.83415679e-01],\n",
       "       ...,\n",
       "       [1.49218793e-01, 1.50317836e-01, 1.46670176e-01, 1.49379604e-01,\n",
       "        4.26899019e-02],\n",
       "       [1.51698155e-01, 1.53156896e-01, 1.50174525e-01, 1.51332189e-01,\n",
       "        5.45793073e-02],\n",
       "       [1.52584631e-01, 1.53904746e-01, 1.46670176e-01, 1.47523957e-01,\n",
       "        5.01861903e-02]])"
      ]
     },
     "execution_count": 55,
     "metadata": {},
     "output_type": "execute_result"
    }
   ],
   "source": [
    "# Code 시작\n",
    "warnings.filterwarnings('ignore')\n",
    "\n",
    "# 데이터 전처리 시작\n",
    "scaler = MinMaxScaler() #SKLearn을 이용하여 정규화를 시작한다.\n",
    "\n",
    "# 스케일을 적용할 column을 정의합니다.\n",
    "scale_cols = ['Open', 'High', 'Low', 'Close', 'Volume']\n",
    "# 스케일 후 columns\n",
    "scaled = scaler.fit_transform(stock[scale_cols])\n",
    "df = pd.DataFrame(scaled, columns=scale_cols)\n",
    "scaled"
   ]
  },
  {
   "cell_type": "code",
   "execution_count": 56,
   "metadata": {},
   "outputs": [
    {
     "data": {
      "text/plain": [
       "((3607, 4), (3607,), (902, 4), (902,))"
      ]
     },
     "execution_count": 56,
     "metadata": {},
     "output_type": "execute_result"
    }
   ],
   "source": [
    "#train / test data 분할\n",
    "x_train, x_test, y_train, y_test = train_test_split(\n",
    "    df.drop('Close', 1), df['Close'], test_size=0.2, random_state=0, shuffle=False)\n",
    "x_train.shape, y_train.shape, x_test.shape, y_test.shape"
   ]
  },
  {
   "cell_type": "code",
   "execution_count": 57,
   "metadata": {},
   "outputs": [],
   "source": [
    "#TensroFlow Dataset을 활용한 시퀀스 데이터셋 구성\n",
    "def windowed_dataset(series, window_size, batch_size, shuffle):\n",
    "    series = tf.expand_dims(series, axis=-1)\n",
    "    ds = tf.data.Dataset.from_tensor_slices(series)\n",
    "    ds = ds.window(window_size + 1, shift=1, drop_remainder=True)\n",
    "    ds = ds.flat_map(lambda w: w.batch(window_size + 1))\n",
    "    if shuffle:\n",
    "        ds = ds.shuffle(1000)\n",
    "    ds = ds.map(lambda w: (w[:-1], w[-1]))\n",
    "    return ds.batch(batch_size).prefetch(1)\n"
   ]
  },
  {
   "cell_type": "code",
   "execution_count": 58,
   "metadata": {},
   "outputs": [
    {
     "name": "stdout",
     "output_type": "stream",
     "text": [
      "데이터셋(X) 구성(batch_size, window_size, feature갯수): (32, 20, 1)\n",
      "데이터셋(Y) 구성(batch_size, window_size, feature갯수): (32, 1)\n"
     ]
    }
   ],
   "source": [
    "\n",
    "# trian_data는 학습용 데이터셋, test_data는 검증용 데이터셋 입니다.\n",
    "train_data = windowed_dataset(y_train, WINDOW_SIZE, BATCH_SIZE, True)\n",
    "test_data = windowed_dataset(y_test, WINDOW_SIZE, BATCH_SIZE, False)\n",
    "\n",
    "# 아래의 코드로 데이터셋의 구성을 확인해 볼 수 있습니다.\n",
    "# X: (batch_size, window_size, feature)\n",
    "# Y: (batch_size, feature)\n",
    "for data in train_data.take(1):\n",
    "    print(f'데이터셋(X) 구성(batch_size, window_size, feature갯수): {data[0].shape}')\n",
    "    print(f'데이터셋(Y) 구성(batch_size, window_size, feature갯수): {data[1].shape}')"
   ]
  },
  {
   "cell_type": "code",
   "execution_count": 59,
   "metadata": {},
   "outputs": [],
   "source": [
    "# 모델\n",
    "model = Sequential([\n",
    "    # 1차원 feature map 생성\n",
    "    Conv1D(filters=48, kernel_size=5,\n",
    "            padding=\"causal\",\n",
    "            activation=\"relu\",\n",
    "            input_shape=[WINDOW_SIZE, 1]),\n",
    "    # LSTM\n",
    "    LSTM(16, activation='tanh'),\n",
    "    Dense(16, activation=\"relu\"),\n",
    "    Dense(1),\n",
    "])"
   ]
  },
  {
   "cell_type": "code",
   "execution_count": 60,
   "metadata": {},
   "outputs": [],
   "source": [
    "# Sequence 학습에 비교적 좋은 퍼포먼스를 내는 Huber()를 사용합니다.\n",
    "loss = Huber()\n",
    "optimizer = Adam(0.0005)\n",
    "model.compile(loss=Huber(), optimizer=optimizer,\n",
    "                metrics=['mse'])"
   ]
  },
  {
   "cell_type": "code",
   "execution_count": 61,
   "metadata": {},
   "outputs": [],
   "source": [
    "# earlystopping은 earlystop에서 설정된 횟수만큼 epoch통안 val_loss 개선이 없다면 학습을 멈춥니다.\n",
    "earlystopping = EarlyStopping(monitor='val_loss', patience=earlystop)\n",
    "# val_loss 기준 체크포인터도 생성합니다.\n",
    "filename = os.path.join('tmp', 'ckeckpointer.ckpt')\n",
    "checkpoint = ModelCheckpoint(filename,\n",
    "                                save_weights_only=True,\n",
    "                                save_best_only=True,\n",
    "                                monitor='val_loss',\n",
    "                                verbose=1)"
   ]
  },
  {
   "cell_type": "code",
   "execution_count": 62,
   "metadata": {},
   "outputs": [
    {
     "name": "stdout",
     "output_type": "stream",
     "text": [
      "Epoch 1/50\n",
      "    111/Unknown - 3s 8ms/step - loss: 1.3918e-04 - mse: 2.7835e-04\n",
      "Epoch 1: val_loss improved from inf to 0.00027, saving model to tmp\\ckeckpointer.ckpt\n",
      "113/113 [==============================] - 4s 15ms/step - loss: 1.3785e-04 - mse: 2.7570e-04 - val_loss: 2.7102e-04 - val_mse: 5.4205e-04\n",
      "Epoch 2/50\n",
      "110/113 [============================>.] - ETA: 0s - loss: 1.3509e-04 - mse: 2.7019e-04\n",
      "Epoch 2: val_loss improved from 0.00027 to 0.00019, saving model to tmp\\ckeckpointer.ckpt\n",
      "113/113 [==============================] - 1s 11ms/step - loss: 1.3265e-04 - mse: 2.6531e-04 - val_loss: 1.9247e-04 - val_mse: 3.8493e-04\n",
      "Epoch 3/50\n",
      "113/113 [==============================] - ETA: 0s - loss: 1.2955e-04 - mse: 2.5910e-04\n",
      "Epoch 3: val_loss did not improve from 0.00019\n",
      "113/113 [==============================] - 1s 12ms/step - loss: 1.2955e-04 - mse: 2.5910e-04 - val_loss: 2.7117e-04 - val_mse: 5.4234e-04\n",
      "Epoch 4/50\n",
      "111/113 [============================>.] - ETA: 0s - loss: 1.3595e-04 - mse: 2.7190e-04\n",
      "Epoch 4: val_loss did not improve from 0.00019\n",
      "113/113 [==============================] - 1s 11ms/step - loss: 1.3463e-04 - mse: 2.6926e-04 - val_loss: 6.9793e-04 - val_mse: 0.0014\n",
      "Epoch 5/50\n",
      "108/113 [===========================>..] - ETA: 0s - loss: 1.3663e-04 - mse: 2.7327e-04\n",
      "Epoch 5: val_loss did not improve from 0.00019\n",
      "113/113 [==============================] - 1s 11ms/step - loss: 1.3192e-04 - mse: 2.6384e-04 - val_loss: 6.3171e-04 - val_mse: 0.0013\n",
      "Epoch 6/50\n",
      "111/113 [============================>.] - ETA: 0s - loss: 1.1424e-06 - mse: 2.2848e-06\n",
      "Epoch 6: val_loss did not improve from 0.00019\n",
      "113/113 [==============================] - 1s 11ms/step - loss: 1.2780e-04 - mse: 2.5561e-04 - val_loss: 4.0611e-04 - val_mse: 8.1223e-04\n",
      "Epoch 7/50\n",
      "108/113 [===========================>..] - ETA: 0s - loss: 1.3938e-04 - mse: 2.7875e-04\n",
      "Epoch 7: val_loss did not improve from 0.00019\n",
      "113/113 [==============================] - 1s 10ms/step - loss: 1.3509e-04 - mse: 2.7017e-04 - val_loss: 7.7750e-04 - val_mse: 0.0016\n",
      "Epoch 8/50\n",
      "112/113 [============================>.] - ETA: 0s - loss: 1.3228e-04 - mse: 2.6456e-04\n",
      "Epoch 8: val_loss did not improve from 0.00019\n",
      "113/113 [==============================] - 1s 9ms/step - loss: 1.3217e-04 - mse: 2.6434e-04 - val_loss: 6.3165e-04 - val_mse: 0.0013\n",
      "Epoch 9/50\n",
      "113/113 [==============================] - ETA: 0s - loss: 1.3092e-04 - mse: 2.6184e-04\n",
      "Epoch 9: val_loss did not improve from 0.00019\n",
      "113/113 [==============================] - 1s 10ms/step - loss: 1.3092e-04 - mse: 2.6184e-04 - val_loss: 7.1245e-04 - val_mse: 0.0014\n",
      "Epoch 10/50\n",
      "108/113 [===========================>..] - ETA: 0s - loss: 1.3559e-04 - mse: 2.7117e-04\n",
      "Epoch 10: val_loss did not improve from 0.00019\n",
      "113/113 [==============================] - 1s 11ms/step - loss: 1.3071e-04 - mse: 2.6143e-04 - val_loss: 5.6162e-04 - val_mse: 0.0011\n",
      "Epoch 11/50\n",
      "113/113 [==============================] - ETA: 0s - loss: 1.3058e-04 - mse: 2.6116e-04\n",
      "Epoch 11: val_loss did not improve from 0.00019\n",
      "113/113 [==============================] - 1s 11ms/step - loss: 1.3058e-04 - mse: 2.6116e-04 - val_loss: 7.0505e-04 - val_mse: 0.0014\n",
      "Epoch 12/50\n",
      "108/113 [===========================>..] - ETA: 0s - loss: 1.3422e-04 - mse: 2.6844e-04\n",
      "Epoch 12: val_loss did not improve from 0.00019\n",
      "113/113 [==============================] - 1s 10ms/step - loss: 1.3004e-04 - mse: 2.6007e-04 - val_loss: 0.0011 - val_mse: 0.0022\n",
      "Epoch 13/50\n",
      "112/113 [============================>.] - ETA: 0s - loss: 1.3149e-04 - mse: 2.6298e-04\n",
      "Epoch 13: val_loss did not improve from 0.00019\n",
      "113/113 [==============================] - 1s 10ms/step - loss: 1.3138e-04 - mse: 2.6276e-04 - val_loss: 5.2512e-04 - val_mse: 0.0011\n",
      "Epoch 14/50\n",
      "113/113 [==============================] - ETA: 0s - loss: 1.3113e-04 - mse: 2.6226e-04\n",
      "Epoch 14: val_loss did not improve from 0.00019\n",
      "113/113 [==============================] - 1s 11ms/step - loss: 1.3113e-04 - mse: 2.6226e-04 - val_loss: 6.5489e-04 - val_mse: 0.0013\n",
      "Epoch 15/50\n",
      "109/113 [===========================>..] - ETA: 0s - loss: 1.3430e-04 - mse: 2.6859e-04\n",
      "Epoch 15: val_loss did not improve from 0.00019\n",
      "113/113 [==============================] - 1s 11ms/step - loss: 1.3063e-04 - mse: 2.6127e-04 - val_loss: 6.8720e-04 - val_mse: 0.0014\n",
      "Epoch 16/50\n",
      "111/113 [============================>.] - ETA: 0s - loss: 1.3075e-04 - mse: 2.6149e-04\n",
      "Epoch 16: val_loss did not improve from 0.00019\n",
      "113/113 [==============================] - 1s 11ms/step - loss: 1.2967e-04 - mse: 2.5933e-04 - val_loss: 0.0010 - val_mse: 0.0020\n",
      "Epoch 17/50\n",
      "110/113 [============================>.] - ETA: 0s - loss: 1.3290e-04 - mse: 2.6579e-04\n",
      "Epoch 17: val_loss did not improve from 0.00019\n",
      "113/113 [==============================] - 1s 11ms/step - loss: 1.3046e-04 - mse: 2.6092e-04 - val_loss: 8.0124e-04 - val_mse: 0.0016\n",
      "Epoch 18/50\n",
      "111/113 [============================>.] - ETA: 0s - loss: 1.2891e-04 - mse: 2.5782e-04\n",
      "Epoch 18: val_loss did not improve from 0.00019\n",
      "113/113 [==============================] - 1s 11ms/step - loss: 1.2810e-04 - mse: 2.5619e-04 - val_loss: 4.9090e-04 - val_mse: 9.8180e-04\n",
      "Epoch 19/50\n",
      "109/113 [===========================>..] - ETA: 0s - loss: 1.3507e-04 - mse: 2.7014e-04\n",
      "Epoch 19: val_loss did not improve from 0.00019\n",
      "113/113 [==============================] - 1s 11ms/step - loss: 1.3142e-04 - mse: 2.6285e-04 - val_loss: 6.8579e-04 - val_mse: 0.0014\n",
      "Epoch 20/50\n",
      "112/113 [============================>.] - ETA: 0s - loss: 1.3058e-04 - mse: 2.6116e-04\n",
      "Epoch 20: val_loss did not improve from 0.00019\n",
      "113/113 [==============================] - 1s 11ms/step - loss: 1.3047e-04 - mse: 2.6094e-04 - val_loss: 6.8871e-04 - val_mse: 0.0014\n",
      "Epoch 21/50\n",
      "112/113 [============================>.] - ETA: 0s - loss: 1.2935e-04 - mse: 2.5870e-04\n",
      "Epoch 21: val_loss did not improve from 0.00019\n",
      "113/113 [==============================] - 1s 10ms/step - loss: 1.2926e-04 - mse: 2.5851e-04 - val_loss: 8.9707e-04 - val_mse: 0.0018\n",
      "Epoch 22/50\n",
      "113/113 [==============================] - ETA: 0s - loss: 1.3072e-04 - mse: 2.6143e-04\n",
      "Epoch 22: val_loss did not improve from 0.00019\n",
      "113/113 [==============================] - 1s 10ms/step - loss: 1.3072e-04 - mse: 2.6143e-04 - val_loss: 8.5399e-04 - val_mse: 0.0017\n"
     ]
    }
   ],
   "source": [
    "history = model.fit(train_data, \n",
    "                    validation_data=(test_data), \n",
    "                    epochs=Epoch_num, \n",
    "                    callbacks=[checkpoint, earlystopping])\n"
   ]
  },
  {
   "cell_type": "code",
   "execution_count": 63,
   "metadata": {},
   "outputs": [
    {
     "name": "stdout",
     "output_type": "stream",
     "text": [
      "28/28 [==============================] - 1s 4ms/step\n"
     ]
    }
   ],
   "source": [
    "model.load_weights(filename)\n",
    "pred = model.predict(test_data)"
   ]
  },
  {
   "cell_type": "code",
   "execution_count": 64,
   "metadata": {},
   "outputs": [
    {
     "data": {
      "image/png": "[encoded data removed]",
      "text/plain": [
       "<Figure size 864x648 with 1 Axes>"
      ]
     },
     "metadata": {
      "needs_background": "light"
     },
     "output_type": "display_data"
    }
   ],
   "source": [
    "# 결과에 대한 그래프 출력(예측 데이터 시각화)\n",
    "plt.figure(figsize=(12, 9))\n",
    "plt.plot(np.asarray(y_test)[20:], label='actual')\n",
    "plt.plot(pred, label='prediction')\n",
    "plt.legend()\n",
    "plt.show()"
   ]
  },
  {
   "cell_type": "code",
   "execution_count": 65,
   "metadata": {},
   "outputs": [
    {
     "name": "stdout",
     "output_type": "stream",
     "text": [
      "예상금액 : 98.52310943603516\n"
     ]
    }
   ],
   "source": [
    "# 최근의 예상값을 출력합니다.\n",
    "maxim = stock.max()\n",
    "minim = stock.min()\n",
    "range = maxim['Close']-minim['Close']\n",
    "result = pred * range + minim['Close']\n",
    "pred_price = result[-1][0]\n",
    "print(\"예상금액 : {}\" .format(pred_price))"
   ]
  }
 ],
 "metadata": {
  "kernelspec": {
   "display_name": "Python 3.10.5 64-bit",
   "language": "python",
   "name": "python3"
  },
  "language_info": {
   "codemirror_mode": {
    "name": "ipython",
    "version": 3
   },
   "file_extension": ".py",
   "mimetype": "text/x-python",
   "name": "python",
   "nbconvert_exporter": "python",
   "pygments_lexer": "ipython3",
   "version": "3.10.5"
  },
  "orig_nbformat": 4,
  "vscode": {
   "interpreter": {
    "hash": "11c0fa10d92f5869caab40100e64fe97bdfe9954eb7edbb102c480dd4a495c25"
   }
  }
 },
 "nbformat": 4,
 "nbformat_minor": 2
}
